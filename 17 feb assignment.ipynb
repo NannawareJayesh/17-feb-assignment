{
 "cells": [
  {
   "cell_type": "markdown",
   "id": "79590da0-5625-4fe0-b96e-64609748f79d",
   "metadata": {},
   "source": [
    "## Assignment"
   ]
  },
  {
   "cell_type": "markdown",
   "id": "24bc148a-d85f-42ae-854e-74321741be91",
   "metadata": {},
   "source": [
    "Q1. What is MongoDB? Explain non-relational databases in short. In which scenarios it is preferred to use\n",
    "MongoDB over SQL databases?"
   ]
  },
  {
   "cell_type": "markdown",
   "id": "6ca8c8e9-daef-4989-a634-293a69e3563b",
   "metadata": {},
   "source": [
    "MongoDB is a popular document-oriented NoSQL database that stores data in a JSON-like format called BSON. It is designed to handle large volumes of unstructured or semi-structured data and is known for its flexibility, scalability, and high performance.\n",
    "\n",
    "Non-relational databases, also known as NoSQL databases, are a type of database management system that does not rely on the traditional relational database model. Instead, they use a variety of data models, such as key-value, document, column-family, and graph databases, to store and manage data. Non-relational databases are often used in scenarios where there is a need for flexible and scalable data storage, such as in web and mobile applications, IoT devices, and big data applications.\n",
    "\n",
    "There are several scenarios where it may be preferred to use MongoDB over SQL databases. One such scenario is when dealing with unstructured or semi-structured data, such as social media feeds, sensor data, or logs. MongoDB's document-oriented data model makes it easier to store and query this type of data than SQL databases. Additionally, MongoDB's scalability and flexibility make it a good choice for applications that require rapid growth and frequent updates, as well as those that need to scale horizontally across multiple servers. Finally, MongoDB's native support for sharding, replication, and high availability makes it a reliable choice for mission-critical applications that require 24/7 uptime.\n"
   ]
  },
  {
   "cell_type": "markdown",
   "id": "aeaabe9c-fd9d-4590-b377-1b628d176531",
   "metadata": {},
   "source": [
    "Q2. State and Explain the features of MongoDB."
   ]
  },
  {
   "cell_type": "markdown",
   "id": "d6607576-bdf7-4526-9167-884a417d6edc",
   "metadata": {},
   "source": [
    "    Document-oriented data model: MongoDB stores data in flexible, JSON-like documents, which can have varying sets of fields and data types. This allows for easy handling of semi-structured or unstructured data.\n",
    "\n",
    "    Dynamic schema: In MongoDB, the schema of a collection can be modified at any time, without any downtime. This allows for agile development and rapid iteration.\n",
    "\n",
    "    High availability: MongoDB supports automatic failover and replica sets, which ensures that data remains available even in the event of hardware or network failures.\n",
    "\n",
    "    Horizontal scalability: MongoDB can scale horizontally across multiple servers, using sharding to distribute data across different nodes. This allows for linear scalability and high performance.\n",
    "\n",
    "    Indexing: MongoDB supports a range of indexing options, including single field, compound, text, geospatial, and hashed indexes. This allows for fast queries and efficient data retrieval.\n",
    "\n",
    "    Ad hoc queries: MongoDB supports ad hoc queries, which means that complex queries can be executed on the fly without the need for predefined views or procedures.\n",
    "\n",
    "    Aggregation: MongoDB provides a powerful aggregation framework that allows for complex data analysis and manipulation.\n",
    "\n",
    "    Full-text search: MongoDB provides full-text search capabilities, which allows for fast and efficient text search across large data sets."
   ]
  },
  {
   "cell_type": "markdown",
   "id": "c872803f-a23a-4162-8880-14076861b594",
   "metadata": {},
   "source": [
    "Q3. Write a code to connect MongoDB to Python. Also, create a database and a collection in MongoDB."
   ]
  },
  {
   "cell_type": "code",
   "execution_count": null,
   "id": "a27a47d6-712a-4172-9ddd-dd2c99657ed9",
   "metadata": {},
   "outputs": [],
   "source": [
    "import pymongo\n",
    "\n",
    "# Set up a client to connect to the MongoDB server\n",
    "client = pymongo.MongoClient(\"mongodb://localhost:27017/\")\n",
    "\n",
    "# Create a new database\n",
    "db = client[\"mydatabase\"]\n",
    "\n",
    "# Create a new collection in the database\n",
    "col = db[\"customers\"]\n"
   ]
  },
  {
   "cell_type": "markdown",
   "id": "4a3aa63b-3f36-4a32-b16b-5b3bef7195fb",
   "metadata": {},
   "source": [
    "Q4. Using the database and the collection created in question number 3, write a code to insert one record,\n",
    "and insert many records. Use the find() and find_one() methods to print the inserted record."
   ]
  },
  {
   "cell_type": "code",
   "execution_count": null,
   "id": "6cc8baa4-68c5-4067-8874-e793e9d06f6b",
   "metadata": {},
   "outputs": [],
   "source": [
    "import pymongo\n",
    "\n",
    "# Set up a client to connect to the MongoDB server\n",
    "client = pymongo.MongoClient(\"mongodb://localhost:27017/\")\n",
    "\n",
    "# Create a new database\n",
    "db = client[\"mydatabase\"]\n",
    "\n",
    "# Create a new collection in the database\n",
    "col = db[\"customers\"]\n",
    "\n",
    "# Insert one record into the collection\n",
    "mydict = { \"name\": \"Jay\", \"address\": \"jalgaon\" }\n",
    "col.insert_one(mydict)\n",
    "\n",
    "# Insert many records into the collection\n",
    "mylist = [\n",
    "  { \"name\": \"Popat\", \"address\": \"nasik\" },\n",
    "  { \"name\": \"pintya\", \"address\": \"dhule\" },\n",
    "  { \"name\": \"bhala\", \"address\": \"shipur\" },\n",
    "  { \"name\": \"papya\", \"address\": \"chopda\" },\n",
    "  { \"name\": \"Somya\", \"address\": \"raver\" }\n",
    "]\n",
    "col.insert_many(mylist)\n",
    "\n",
    "# Print the inserted record using find_one()\n",
    "print(col.find_one())\n",
    "\n",
    "# Print all the inserted records using find()\n",
    "for x in col.find():\n",
    "  print(x)\n"
   ]
  },
  {
   "cell_type": "markdown",
   "id": "f461842e-5424-46b1-9a89-01f0e858dcd2",
   "metadata": {},
   "source": [
    "Q5. Explain how you can use the find() method to query the MongoDB database. Write a simple code to\n",
    "demonstrate this."
   ]
  },
  {
   "cell_type": "markdown",
   "id": "8af3bebe-4a6b-46fa-b749-4a717e7c6359",
   "metadata": {},
   "source": [
    "The find() method is used to query the MongoDB database and retrieve documents from a collection that match a certain set of criteria. The method takes one or more arguments, including a query filter, projection, sorting, and limiting options."
   ]
  },
  {
   "cell_type": "code",
   "execution_count": null,
   "id": "e8b064f8-c9d2-4cdb-8cee-242d87c9b23e",
   "metadata": {},
   "outputs": [],
   "source": [
    "# Importing required libraries\n",
    "from pymongo import MongoClient\n",
    "\n",
    "# Creating a MongoClient instance\n",
    "client = MongoClient('localhost', 27017)\n",
    "\n",
    "# Accessing a database\n",
    "db = client['mydatabase']\n",
    "\n",
    "# Accessing a collection\n",
    "collection = db['mycollection']\n",
    "\n",
    "# Creating a query\n",
    "query = {\"name\": \"mahi\"}\n",
    "\n",
    "# Querying the collection\n",
    "results = collection.find(query)\n",
    "\n",
    "# Printing the results\n",
    "for doc in results:\n",
    "    print(doc)\n"
   ]
  },
  {
   "cell_type": "markdown",
   "id": "2959426f-2af1-45a4-a260-a55ff7ca8fa0",
   "metadata": {},
   "source": [
    "Q6. Explain the sort() method. Give an example to demonstrate sorting in MongoDB."
   ]
  },
  {
   "cell_type": "markdown",
   "id": "7c2e171e-f53c-400e-838e-38a4f15b1d51",
   "metadata": {},
   "source": [
    "The sort() method in MongoDB is used to sort the results of a query in ascending or descending order based on one or more fields. It takes one or more arguments, which are used to specify the fields and the sort order."
   ]
  },
  {
   "cell_type": "code",
   "execution_count": null,
   "id": "d9f7c5f0-327a-4679-9ced-c75a20fc0719",
   "metadata": {},
   "outputs": [],
   "source": [
    "# Importing required libraries\n",
    "from pymongo import MongoClient\n",
    "\n",
    "# Creating a MongoClient instance\n",
    "client = MongoClient('localhost', 27017)\n",
    "\n",
    "# Accessing a database\n",
    "db = client['mydatabase']\n",
    "\n",
    "# Accessing a collection\n",
    "collection = db['mycollection']\n",
    "\n",
    "# Creating a query\n",
    "query = {\"age\": {\"$gte\": 25}}\n",
    "\n",
    "# Specifying the sort order\n",
    "sort_order = [(\"name\", 1), (\"age\", -1)]\n",
    "\n",
    "# Querying the collection and sorting the results\n",
    "results = collection.find(query).sort(sort_order)\n",
    "\n",
    "# Printing the results\n",
    "for doc in results:\n",
    "    print(doc)\n"
   ]
  },
  {
   "cell_type": "markdown",
   "id": "9d2b03eb-ed78-4556-886b-bc55f9f11ba8",
   "metadata": {},
   "source": [
    "Q7. Explain why delete_one(), delete_many(), and drop() is used."
   ]
  },
  {
   "cell_type": "markdown",
   "id": "d91cd452-966e-426a-945b-178192c3d0a3",
   "metadata": {},
   "source": [
    "In MongoDB, the delete_one() and delete_many() methods are used to delete one or multiple documents from a collection, respectively. The drop() method is used to drop an entire collection from a database.\n",
    "\n",
    "Here's an explanation of each method:\n",
    "\n",
    "    delete_one(): This method is used to delete a single document that matches a specified filter. If there are multiple documents that match the filter, only the first document that is found will be deleted.\n",
    "\n",
    "    delete_many(): This method is used to delete all documents that match a specified filter. If no documents match the filter, no documents will be deleted.\n",
    "\n",
    "    drop(): This method is used to drop an entire collection from a database. Once a collection is dropped, all of its documents and indexes are also deleted. This operation cannot be undone, so it should be used with caution."
   ]
  },
  {
   "cell_type": "code",
   "execution_count": null,
   "id": "0c1ed010-cbaa-4a34-ac4f-a2b036203f27",
   "metadata": {},
   "outputs": [],
   "source": []
  }
 ],
 "metadata": {
  "kernelspec": {
   "display_name": "Python 3 (ipykernel)",
   "language": "python",
   "name": "python3"
  },
  "language_info": {
   "codemirror_mode": {
    "name": "ipython",
    "version": 3
   },
   "file_extension": ".py",
   "mimetype": "text/x-python",
   "name": "python",
   "nbconvert_exporter": "python",
   "pygments_lexer": "ipython3",
   "version": "3.10.8"
  }
 },
 "nbformat": 4,
 "nbformat_minor": 5
}
